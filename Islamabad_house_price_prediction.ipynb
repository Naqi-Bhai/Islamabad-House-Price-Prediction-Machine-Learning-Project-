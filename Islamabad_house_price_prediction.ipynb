{
  "cells": [
    {
      "cell_type": "code",
      "execution_count": 1,
      "metadata": {
        "id": "tgS1h1OY890f"
      },
      "outputs": [],
      "source": [
        "import numpy as np\n",
        "import pandas as pd\n",
        "from sklearn.pipeline import make_pipeline\n",
        "from sklearn.compose import make_column_transformer\n",
        "from sklearn.metrics import r2_score\n",
        "from sklearn.linear_model import LinearRegression, Lasso, Ridge\n",
        "from sklearn.ensemble import RandomForestRegressor\n",
        "from sklearn.preprocessing import OneHotEncoder, StandardScaler\n",
        "from sklearn.model_selection import train_test_split\n",
        "import pickle"
      ]
    },
    {
      "cell_type": "markdown",
      "metadata": {},
      "source": [
        "Load dataset"
      ]
    },
    {
      "cell_type": "code",
      "execution_count": 2,
      "metadata": {},
      "outputs": [],
      "source": [
        "housing = pd.read_csv(\"pakistan_house_price_data.csv\")"
      ]
    },
    {
      "cell_type": "markdown",
      "metadata": {},
      "source": [
        "Filter for Islamabad and House properties"
      ]
    },
    {
      "cell_type": "code",
      "execution_count": 3,
      "metadata": {},
      "outputs": [],
      "source": [
        "housing = housing[housing['city'] == 'Islamabad']\n",
        "housing = housing[housing['property_type'] == 'House']"
      ]
    },
    {
      "cell_type": "markdown",
      "metadata": {},
      "source": [
        "Keep only properties that are for sale\n"
      ]
    },
    {
      "cell_type": "code",
      "execution_count": 4,
      "metadata": {},
      "outputs": [],
      "source": [
        "housing = housing[housing['purpose'] == 'For Sale']"
      ]
    },
    {
      "cell_type": "markdown",
      "metadata": {},
      "source": [
        "Convert price to a smaller unit"
      ]
    },
    {
      "cell_type": "code",
      "execution_count": 5,
      "metadata": {},
      "outputs": [],
      "source": [
        "housing['price'] = housing['price'].apply(lambda x: x / 100000)"
      ]
    },
    {
      "cell_type": "markdown",
      "metadata": {},
      "source": [
        "Remove extremely high-priced house"
      ]
    },
    {
      "cell_type": "code",
      "execution_count": 6,
      "metadata": {},
      "outputs": [],
      "source": [
        "housing = housing[housing['price'] < 4000]"
      ]
    },
    {
      "cell_type": "markdown",
      "metadata": {},
      "source": [
        "Drop unnecessary columns"
      ]
    },
    {
      "cell_type": "code",
      "execution_count": 7,
      "metadata": {},
      "outputs": [],
      "source": [
        "housing = housing.drop(housing.columns[[0]], axis=1)\n",
        "housing = housing.drop(\n",
        "    ['property_id', 'property_type', 'location_id', 'page_url', 'city', 'latitude',\n",
        "     'province_name', 'longitude', 'purpose', 'date_added', 'agency', 'agent'],\n",
        "    axis=1\n",
        ")"
      ]
    },
    {
      "cell_type": "markdown",
      "metadata": {},
      "source": [
        "Clean and preprocess 'location' column"
      ]
    },
    {
      "cell_type": "code",
      "execution_count": 8,
      "metadata": {},
      "outputs": [],
      "source": [
        "housing['location'] = housing['location'].apply(lambda x: x.strip())\n",
        "location_count = housing['location'].value_counts()\n",
        "location_count_less_10 = location_count[location_count <= 10]\n",
        "housing['location'] = housing['location'].apply(lambda x: 'other' if x in location_count_less_10 else x)\n"
      ]
    },
    {
      "cell_type": "markdown",
      "metadata": {},
      "source": [
        "Split data into features and target variable"
      ]
    },
    {
      "cell_type": "code",
      "execution_count": 9,
      "metadata": {},
      "outputs": [],
      "source": [
        "X = housing.drop(columns=[\"price\"])\n",
        "y = housing[\"price\"]"
      ]
    },
    {
      "cell_type": "markdown",
      "metadata": {},
      "source": [
        "Train-test split"
      ]
    },
    {
      "cell_type": "code",
      "execution_count": 10,
      "metadata": {},
      "outputs": [],
      "source": [
        "X_train, X_test, y_train, y_test = train_test_split(X, y, test_size=0.2, random_state=0)\n"
      ]
    },
    {
      "cell_type": "markdown",
      "metadata": {},
      "source": [
        "Define preprocessing pipeline"
      ]
    },
    {
      "cell_type": "code",
      "execution_count": 11,
      "metadata": {},
      "outputs": [],
      "source": [
        "preprocessor = make_column_transformer(\n",
        "    (OneHotEncoder(handle_unknown='ignore', sparse_output=False), ['location']),  # Encode categorical variable\n",
        "    (StandardScaler(), ['baths', 'bedrooms', 'Total_Area'])  # Scale numerical variables\n",
        ")"
      ]
    },
    {
      "cell_type": "markdown",
      "metadata": {},
      "source": [
        "Train different models"
      ]
    },
    {
      "cell_type": "code",
      "execution_count": 12,
      "metadata": {},
      "outputs": [],
      "source": [
        "models = {\n",
        "    \"Linear Regression\": LinearRegression(),\n",
        "    \"Lasso Regression\": Lasso(),\n",
        "    \"Ridge Regression\": Ridge(),\n",
        "    \"Random Forest\": RandomForestRegressor()\n",
        "}"
      ]
    },
    {
      "cell_type": "code",
      "execution_count": 13,
      "metadata": {},
      "outputs": [
        {
          "name": "stdout",
          "output_type": "stream",
          "text": [
            "Linear Regression R² Score: 0.7665\n",
            "Lasso Regression R² Score: 0.7573\n",
            "Ridge Regression R² Score: 0.7671\n",
            "Random Forest R² Score: 0.8618\n"
          ]
        }
      ],
      "source": [
        "best_model = None\n",
        "best_r2 = float('-inf')\n",
        "\n",
        "for name, model in models.items():\n",
        "    pipe = make_pipeline(preprocessor, model)\n",
        "    pipe.fit(X_train, y_train)\n",
        "    y_pred = pipe.predict(X_test)\n",
        "    score = r2_score(y_test, y_pred)\n",
        "    print(f\"{name} R² Score: {score:.4f}\")"
      ]
    },
    {
      "cell_type": "markdown",
      "metadata": {},
      "source": [
        "Save the best model based on R² score"
      ]
    },
    {
      "cell_type": "code",
      "execution_count": 14,
      "metadata": {},
      "outputs": [],
      "source": [
        "if score > best_r2:\n",
        "    best_r2 = score\n",
        "    best_model = pipe"
      ]
    },
    {
      "cell_type": "markdown",
      "metadata": {},
      "source": [
        "Save the best-performing model"
      ]
    },
    {
      "cell_type": "code",
      "execution_count": 15,
      "metadata": {},
      "outputs": [],
      "source": [
        "\n",
        "pickle.dump(best_model, open(\"isb_house_price_pred.pkl\", \"wb\"))"
      ]
    },
    {
      "cell_type": "code",
      "execution_count": 17,
      "metadata": {},
      "outputs": [
        {
          "name": "stdout",
          "output_type": "stream",
          "text": [
            "Model training complete. Best model saved as 'isb_house_price_pred.pkl'.\n"
          ]
        }
      ],
      "source": [
        "print(\"Model training complete. Best model saved as 'isb_house_price_pred.pkl'.\")"
      ]
    }
  ],
  "metadata": {
    "colab": {
      "provenance": []
    },
    "kernelspec": {
      "display_name": "Python 3",
      "language": "python",
      "name": "python3"
    },
    "language_info": {
      "codemirror_mode": {
        "name": "ipython",
        "version": 3
      },
      "file_extension": ".py",
      "mimetype": "text/x-python",
      "name": "python",
      "nbconvert_exporter": "python",
      "pygments_lexer": "ipython3",
      "version": "3.12.4"
    }
  },
  "nbformat": 4,
  "nbformat_minor": 0
}
